{
 "cells": [
  {
   "cell_type": "markdown",
   "metadata": {},
   "source": [
    "### Ejercicio: Uso de funciones en Python\n",
    "## Ejercicio 1: Trabajar con argumentos en funciones\n",
    "Los argumentos requeridos en las funciones se utilizan cuando las funciones necesitan que esos argumentos funcionen correctamente. En este ejercicio, construirás un informe de combustible que requiere información de varias ubicaciones de combustible en todo el cohete."
   ]
  },
  {
   "cell_type": "code",
   "execution_count": 7,
   "metadata": {},
   "outputs": [],
   "source": [
    "def gasReport(tanque1, tanque2, tanque3):\n",
    "    tupTanque = (tanque1, tanque2, tanque3)\n",
    "    prom = sum(tupTanque)/len(tupTanque)\n",
    "    return f' EL promedio es: {prom}, el tanque 1 esta al: {tanque1}%, el tanque 2 al: {tanque2}%, y el tanque 3 esta al {tanque3}%'\n",
    "\n",
    "\n"
   ]
  },
  {
   "cell_type": "markdown",
   "metadata": {},
   "source": [
    "Ahora que hemos definido la función de informes, vamos a comprobarlo. Para esta misión, los tanques no están llenos:"
   ]
  },
  {
   "cell_type": "code",
   "execution_count": 6,
   "metadata": {},
   "outputs": [
    {
     "name": "stdout",
     "output_type": "stream",
     "text": [
      " EL promedio es: 71.66666666666667, el tanque 1 esta al: 50%, el tanque 2 al: 75%, y el tanque 3 esta al 90%\n"
     ]
    }
   ],
   "source": [
    "print(gasReport(50,75,90))"
   ]
  },
  {
   "cell_type": "markdown",
   "metadata": {},
   "source": [
    "En lugar de simplemente crear el informe, la función también está calculando el promedio. Mejora la legibilidad extrayendo el cálculo promedio de la función en una nueva función para que el promedio se pueda hacer de forma independiente:"
   ]
  },
  {
   "cell_type": "code",
   "execution_count": 9,
   "metadata": {},
   "outputs": [
    {
     "data": {
      "text/plain": [
       "71.66666666666667"
      ]
     },
     "execution_count": 9,
     "metadata": {},
     "output_type": "execute_result"
    }
   ],
   "source": [
    "def gasPromedio(tupValores):\n",
    "    prom = sum(tupValores)/len(tupValores)\n",
    "    return prom\n",
    "gasPromedio((50,75,90))"
   ]
  },
  {
   "cell_type": "markdown",
   "metadata": {},
   "source": [
    "Ahora actualiza la función de informes para llamando a la nueva función del promedio:"
   ]
  },
  {
   "cell_type": "code",
   "execution_count": 12,
   "metadata": {},
   "outputs": [
    {
     "name": "stdout",
     "output_type": "stream",
     "text": [
      " EL promedio es: 71.66666666666667, el tanque 1 esta al: 50%, el tanque 2 al: 75%, y el tanque 3 esta al 90%\n"
     ]
    }
   ],
   "source": [
    "def gasReport(tanque1, tanque2, tanque3):\n",
    "    tupTanque = (tanque1, tanque2, tanque3)\n",
    "    prom = gasPromedio(tupTanque)\n",
    "    return f' EL promedio es: {prom}, el tanque 1 esta al: {tanque1}%, el tanque 2 al: {tanque2}%, y el tanque 3 esta al {tanque3}%'\n",
    "\n",
    "print(gasReport(50,75,90))"
   ]
  },
  {
   "cell_type": "markdown",
   "metadata": {},
   "source": [
    "## Ejercicio 2: Trabajo con argumentos de palabra clave\n",
    "### Ejercicio : Trabajar con argumentos de palabras clave en funciones\n",
    "En este ejercicio, construirás un informe de cohete que requiere varias piezas de información, como el tiempo hasta el destino, el combustible a la izquierda y el nombre del destino. Comienza por crear una función que creará un informe preciso de la misión:"
   ]
  },
  {
   "cell_type": "code",
   "execution_count": 16,
   "metadata": {},
   "outputs": [
    {
     "name": "stdout",
     "output_type": "stream",
     "text": [
      "tiempo de la mision: 35,\n",
      "combustible disponible: 37000,\n",
      "destino: marte\n"
     ]
    }
   ],
   "source": [
    "def reporteMision(prelan, tiempo_vuelo, destino, tank_ext, tank_int):\n",
    "    tiempo_total = prelan + tiempo_vuelo\n",
    "    gas_total = tank_ext + tank_int\n",
    "    print(f\"tiempo de la mision: {tiempo_total},\\ncombustible disponible: {gas_total},\\ndestino: {destino}\")\n",
    "\n",
    "reporteMision(15,20,'marte',15000,22000)"
   ]
  },
  {
   "cell_type": "markdown",
   "metadata": {},
   "source": [
    "La función es problemática porque no se puede adaptar para minutos adicionales o tanques adicionales de combustible. Hazlo más flexible permitiendo cualquier número de pasos basados en el tiempo y cualquier número de tanques. En lugar de usar *args y **kwargs, aprovecha el hecho de que puedes usar cualquier nombre que desees. Asegurate que la función sea más legible mediante el uso de nombres de variables que están asociados con las entradas, como *minutes y **fuel_reservoirs:"
   ]
  },
  {
   "cell_type": "code",
   "execution_count": 18,
   "metadata": {},
   "outputs": [
    {
     "name": "stdout",
     "output_type": "stream",
     "text": [
      "tiempo de la mision: 70,\n",
      "combustible disponible: 55000,\n",
      "destino: marte\n"
     ]
    }
   ],
   "source": [
    "def reporteMision(destino, *min, **tankGas):\n",
    "    tiempo = sum(min)\n",
    "    tanques = tankGas['int']+tankGas['ext']\n",
    "    print(f\"tiempo de la mision: {tiempo},\\ncombustible disponible: {tanques},\\ndestino: {destino}\")\n",
    "\n",
    "reporteMision('marte',10,35,25,int=20000,ext=35000)"
   ]
  },
  {
   "cell_type": "markdown",
   "metadata": {},
   "source": [
    "Debido a que el combustible que queda en los tanques es específico de cada tanque, actualiza la función para usar el nombre de cada tanque en el informe:"
   ]
  },
  {
   "cell_type": "code",
   "execution_count": 20,
   "metadata": {},
   "outputs": [
    {
     "name": "stdout",
     "output_type": "stream",
     "text": [
      "tiempo de la mision: 70,\n",
      "combustible disponible(Interno): 20000\n",
      "combustible disponible(Externo): 35000,\n",
      "destino: marte\n"
     ]
    }
   ],
   "source": [
    "def reporteMision(destino, *min, **tankGas):\n",
    "    tiempo = sum(min)\n",
    "    print(f\"tiempo de la mision: {tiempo},\\ncombustible disponible(Interno): {tankGas['int']}\\ncombustible disponible(Externo): {tankGas['ext']},\\ndestino: {destino}\")\n",
    "\n",
    "reporteMision('marte',10,35,25,int=20000,ext=35000)"
   ]
  }
 ],
 "metadata": {
  "interpreter": {
   "hash": "d53b246f497a963a84a7aed74cc29797ac2aefbd7abf3e6beb1011f942af096e"
  },
  "kernelspec": {
   "display_name": "Python 3.9.7 ('base')",
   "language": "python",
   "name": "python3"
  },
  "language_info": {
   "codemirror_mode": {
    "name": "ipython",
    "version": 3
   },
   "file_extension": ".py",
   "mimetype": "text/x-python",
   "name": "python",
   "nbconvert_exporter": "python",
   "pygments_lexer": "ipython3",
   "version": "3.9.7"
  },
  "orig_nbformat": 4
 },
 "nbformat": 4,
 "nbformat_minor": 2
}
